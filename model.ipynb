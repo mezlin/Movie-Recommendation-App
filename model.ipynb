{
 "cells": [
  {
   "cell_type": "markdown",
   "metadata": {},
   "source": [
    "# **Movie Recommendation Model**"
   ]
  },
  {
   "cell_type": "markdown",
   "metadata": {
    "vscode": {
     "languageId": "plaintext"
    }
   },
   "source": [
    "## **Loading the dataset from TMDB**"
   ]
  },
  {
   "cell_type": "code",
   "execution_count": 1,
   "metadata": {},
   "outputs": [],
   "source": [
    "# Importing necessary libraries\n",
    "import requests\n",
    "import json\n",
    "import time\n",
    "import csv"
   ]
  },
  {
   "cell_type": "code",
   "execution_count": 2,
   "metadata": {},
   "outputs": [],
   "source": [
    "# TMDB API key\n",
    "API_KEY = \"3a5247664c3b9f56e879a099706a2f04\"\n",
    "BASE_URL = \"https://api.themoviedb.org/3\""
   ]
  },
  {
   "cell_type": "code",
   "execution_count": 3,
   "metadata": {},
   "outputs": [],
   "source": [
    "# Function get the details of a movie\n",
    "def get_movie_details(movie_id):\n",
    "    url = f\"{BASE_URL}/movie/{movie_id}?api_key={API_KEY}&append_to_response=credits\"\n",
    "    response = requests.get(url)\n",
    "\n",
    "    #if the repsonse is successful\n",
    "    if response.status_code == 200:\n",
    "        data = response.json()\n",
    "        title = data.get(\"title\", \"Unknown\")\n",
    "        genres = \", \".join([g[\"name\"] for g in data.get(\"genres\", [])])\n",
    "        director = \"Unknown\"\n",
    "        actors = []\n",
    "        overview = data.get(\"overview\", \"No overview available\")\n",
    "\n",
    "        # Get the director\n",
    "        for crew_member in data.get(\"credits\", {}).get(\"crew\", []):\n",
    "            if crew_member[\"job\"] == \"Director\":\n",
    "                director = crew_member[\"name\"]\n",
    "                break\n",
    "        \n",
    "        # Get the actors\n",
    "        for cast_member in data.get(\"credits\", {}).get(\"cast\", []):\n",
    "            actors.append(cast_member[\"name\"])\n",
    "        \n",
    "        # Return the movie details\n",
    "        return {\n",
    "            \"id\": movie_id,\n",
    "            \"title\": title,\n",
    "            \"genre\": genres,\n",
    "            \"director\": director,\n",
    "            \"actors\": \", \".join(actors),\n",
    "            \"overview\": overview\n",
    "        }\n",
    "    \n",
    "    # If the response is not successful\n",
    "    return None"
   ]
  },
  {
   "cell_type": "code",
   "execution_count": 4,
   "metadata": {},
   "outputs": [],
   "source": [
    "# Function to fetch the movies with details\n",
    "def get_movies(page_limit=15):\n",
    "    movies_data = [] # List to store the movies data\n",
    "    for page in range(1, page_limit+1):\n",
    "        url = f\"{BASE_URL}/discover/movie?api_key={API_KEY}&sort_by=popularity.desc&include_video=false&adult=false&page={page}\"\n",
    "        response = requests.get(url)\n",
    "\n",
    "        # If the response is successful\n",
    "        if response.status_code == 200:\n",
    "            data = response.json().get(\"results\", [])\n",
    "            for movie in data:\n",
    "                movie_id = movie.get(\"id\")\n",
    "                details = get_movie_details(movie_id)\n",
    "                if details:\n",
    "                    movies_data.append(details)\n",
    "        time.sleep(0.5) # To avoid hitting the API rate limit\n",
    "    return movies_data"
   ]
  },
  {
   "cell_type": "code",
   "execution_count": 61,
   "metadata": {},
   "outputs": [],
   "source": [
    "movies = get_movies(100)"
   ]
  },
  {
   "cell_type": "code",
   "execution_count": 5,
   "metadata": {},
   "outputs": [],
   "source": [
    "# Function to save the movies to a csv file\n",
    "def save_movies_to_csv(movies, filename=\"movies.csv\"):\n",
    "    with open(filename, mode=\"w\", newline=\"\", encoding=\"utf-8\") as file:\n",
    "        writer = csv.writer(file)\n",
    "        writer.writerow([\"ID\", \"Title\", \"Genre\", \"Director\", \"Actors\", \"Overview\"])\n",
    "        for movie in movies:\n",
    "            writer.writerow([movie[\"id\"], movie[\"title\"], movie[\"genre\"], movie[\"director\"], movie[\"actors\"], movie[\"overview\"]])\n",
    "            print(f\"{movie['title']} saved to {filename}\")\n",
    "    print(\"All movies saved to csv\")\n"
   ]
  },
  {
   "cell_type": "markdown",
   "metadata": {},
   "source": [
    "## **Applying the model to the dataset**"
   ]
  },
  {
   "cell_type": "code",
   "execution_count": 75,
   "metadata": {},
   "outputs": [],
   "source": [
    "# Importing necessary libraries\n",
    "import pandas as pd\n",
    "from sklearn.feature_extraction.text import TfidfVectorizer\n",
    "from sklearn.metrics.pairwise import cosine_similarity\n",
    "import random\n",
    "from rapidfuzz import process, fuzz"
   ]
  },
  {
   "cell_type": "markdown",
   "metadata": {},
   "source": [
    "#### **Preprocessing the data**"
   ]
  },
  {
   "cell_type": "code",
   "execution_count": 76,
   "metadata": {},
   "outputs": [],
   "source": [
    "# Load the dataset\n",
    "ds = pd.read_csv(\"movies.csv\")\n",
    "\n",
    "# Fill the missing values with empty string\n",
    "ds.fillna(\"\", inplace=True)\n",
    "\n",
    "# Combine relevant features into a single string\n",
    "ds[\"combined_features\"] = ds[\"Genre\"] + \" \" + ds[\"Director\"] + \" \" + ds[\"Actors\"] + \" \" + ds[\"Overview\"]"
   ]
  },
  {
   "cell_type": "markdown",
   "metadata": {},
   "source": [
    "#### **Converting text data to numerical data using TF-IDF**"
   ]
  },
  {
   "cell_type": "code",
   "execution_count": 77,
   "metadata": {},
   "outputs": [],
   "source": [
    "# Convert the text to a matrix of TF-IDF features\n",
    "vectorizer = TfidfVectorizer(stop_words=\"english\")\n",
    "tfidf_matrix = vectorizer.fit_transform(ds[\"combined_features\"].values.astype('U'))"
   ]
  },
  {
   "cell_type": "markdown",
   "metadata": {},
   "source": [
    "#### **Function to recommend movies based on given movie title**"
   ]
  },
  {
   "cell_type": "code",
   "execution_count": 78,
   "metadata": {},
   "outputs": [],
   "source": [
    "# Compute the cosine similarity matrix\n",
    "cosine_sim = cosine_similarity(tfidf_matrix)\n",
    "\n",
    "# Function to get the movie recommendations\n",
    "def get_recommendations(movie_title, cosine_sim=cosine_sim, ds=ds):\n",
    "    movie_title = movie_title.lower()  # Convert to lowercase for case-insensitive matching\n",
    "\n",
    "    # Convert all dataset titles to lowercase and find matching index\n",
    "    ds[\"lower_title\"] = ds[\"Title\"].str.lower()\n",
    "    \n",
    "    # Use RapidFuzz to find the best match\n",
    "    best_match, score, _ = process.extractOne(movie_title, \n",
    "                                              ds[\"lower_title\"], \n",
    "                                              scorer=process.fuzz.WRatio) # Using WRatio for typos and different spellings\n",
    "\n",
    "    if score < 75:  # If the best match is not good enough\n",
    "        print(\"No close match found.\")\n",
    "        return {\"message\": \"No close match found.\", \"recommendations\": []}\n",
    "    \n",
    "    # Get the index of the movie that matches the title\n",
    "    matched_idx = ds[ds[\"lower_title\"] == best_match].index[0]\n",
    "    matched_title = ds.iloc[matched_idx][\"Title\"]\n",
    "    print(f\"Best match found: {matched_title} with score {score}\")\n",
    "    idx = matched_idx\n",
    "\n",
    "    # Get similarity scores for all movies\n",
    "    sim_scores = list(enumerate(cosine_sim[idx]))\n",
    "\n",
    "    # Sort the movies based on the similarity scores\n",
    "    sim_scores = sorted(sim_scores, key=lambda x: x[1], reverse=True)\n",
    "    \n",
    "    # Get the scores of the 10 most similar movies\n",
    "    top_movies = [ds.iloc[i[0]][\"Title\"] for i in sim_scores[0:10]]\n",
    "\n",
    "    return {\"message\": f\"Best match found: {matched_title}\", \"recommendations\": top_movies}\n"
   ]
  },
  {
   "cell_type": "code",
   "execution_count": null,
   "metadata": {},
   "outputs": [],
   "source": [
    "# Test the function\n",
    "movie_title = \"avngers\" \n",
    "recommendations = get_recommendations(movie_title, cosine_sim)\n",
    "\n",
    "# Print the recommendations\n",
    "if recommendations:\n",
    "    print(f\"Recommendations for {movie_title}:\")\n",
    "    for movie in recommendations:\n",
    "        print(movie)\n",
    "    "
   ]
  },
  {
   "cell_type": "markdown",
   "metadata": {},
   "source": [
    "### **Function to recommend movies based on user preferences**"
   ]
  },
  {
   "cell_type": "code",
   "execution_count": 80,
   "metadata": {},
   "outputs": [],
   "source": [
    "def get_reco_on_pref(fav_genres, fav_actors, fav_directors, ds=ds):\n",
    "    filtered_movies = ds.copy()\n",
    "    \n",
    "    # Filter by genres\n",
    "    if fav_genres:\n",
    "        filtered_movies = filtered_movies[filtered_movies[\"Genre\"].str.contains('|'.join(fav_genres), case=False, na=False)]\n",
    "\n",
    "    # Filter by actors\n",
    "    if fav_actors:\n",
    "        filtered_movies = filtered_movies[filtered_movies[\"Actors\"].str.contains('|'.join(fav_actors), case=False, na=False)]\n",
    "\n",
    "    # Filter by directors\n",
    "    if fav_directors:\n",
    "        filtered_movies = filtered_movies[filtered_movies[\"Director\"].str.contains('|'.join(fav_directors), case=False, na=False)]\n",
    "\n",
    "    # If no movies match, return a random movie\n",
    "    if filtered_movies.empty:\n",
    "       return {\"message\": \"No movies found matching your preferences.\", \"recommendations\": []}\n",
    "    \n",
    "    # Handle the case where the filtered movies are less than 5\n",
    "    if len(filtered_movies) < 5:\n",
    "        return {\"message\": \"Movies based on your preferences\", \"recommendations\": filtered_movies.sample()[\"Title\"].tolist()}\n",
    "    \n",
    "    return {\"message\": \"Movies based on your preferences\", \"recommendations\": filtered_movies.sample(5)[\"Title\"].tolist()}"
   ]
  },
  {
   "cell_type": "code",
   "execution_count": null,
   "metadata": {},
   "outputs": [],
   "source": [
    "# Test the function\n",
    "fav_genres = [\"Action\"]\n",
    "fav_actors = [\"\"]\n",
    "fav_directors = [\"Christopher Nolan\"]\n",
    "recommendations = get_reco_on_pref(fav_genres, fav_actors, fav_directors)\n",
    "\n",
    "# Print the recommendations\n",
    "if recommendations:\n",
    "    print(\"Recommendations based on preferences:\")\n",
    "    for movie in recommendations:\n",
    "        print(movie)\n"
   ]
  },
  {
   "cell_type": "markdown",
   "metadata": {},
   "source": [
    "#### **Function to search movie by genre, actor or director**"
   ]
  },
  {
   "cell_type": "code",
   "execution_count": 81,
   "metadata": {},
   "outputs": [],
   "source": [
    "def search_movies_by(category, keyword, ds=ds):\n",
    "    if category not in [\"Genre\", \"Actors\", \"Director\"]:\n",
    "        return {\"message\": \"Invalid category. Choose 'Genre', 'Actors', or 'Director'.\", \"results\": []}\n",
    "    \n",
    "    results = ds[ds[category].str.contains(keyword, case=False, na=False)][\"Title\"].tolist()\n",
    "    results = random.sample(results, len(results))\n",
    "\n",
    "    if results:\n",
    "        return {\"message\": f\"Movies found for {category} - {keyword}\", \"recommendations\":results[:10]}\n",
    "    return {\"message\": \"No movies found.\", \"results\": []}"
   ]
  },
  {
   "cell_type": "code",
   "execution_count": null,
   "metadata": {},
   "outputs": [],
   "source": [
    "# Test the function\n",
    "category = \"Actors\"\n",
    "keyword = \"Cruise\"\n",
    "search_movies_by(category, keyword)"
   ]
  },
  {
   "cell_type": "markdown",
   "metadata": {},
   "source": [
    "## **Flask API for the Movie Recommendations**"
   ]
  },
  {
   "cell_type": "code",
   "execution_count": 82,
   "metadata": {},
   "outputs": [],
   "source": [
    "from flask import Flask, request, jsonify\n",
    "app = Flask(__name__)"
   ]
  },
  {
   "cell_type": "code",
   "execution_count": 83,
   "metadata": {},
   "outputs": [],
   "source": [
    "# Route to get movie recommendations based on title\n",
    "@app.route(\"/recommend\", methods=[\"GET\"])\n",
    "def recommend():\n",
    "    movie_title = request.args.get(\"title\")\n",
    "    if not movie_title:\n",
    "        return jsonify({\"error\": \"No title provided.\"}), 400\n",
    "    return jsonify({\"recommendations\": get_recommendations(movie_title)}), 200"
   ]
  },
  {
   "cell_type": "code",
   "execution_count": 84,
   "metadata": {},
   "outputs": [],
   "source": [
    "# Route to get movie recommendations based on user preferences\n",
    "@app.route(\"/recommend/preferences\", methods=[\"POST\"])\n",
    "def recommend_preferences():\n",
    "    data = request.get_json()\n",
    "    fav_genres = data.get(\"genres\", [])\n",
    "    fav_actors = data.get(\"actors\", [])\n",
    "    fav_directors = data.get(\"directors\", [])\n",
    "\n",
    "    if not fav_genres and not fav_actors and not fav_directors:\n",
    "        return jsonify({\"error\": \"No preferences provided.\"}), 400\n",
    "    return jsonify({\"recommendations\": get_reco_on_pref(fav_genres, fav_actors, fav_directors)}), 200"
   ]
  },
  {
   "cell_type": "code",
   "execution_count": 85,
   "metadata": {},
   "outputs": [],
   "source": [
    "# Route to search movies by category\n",
    "@app.route(\"/search\", methods=[\"GET\"])\n",
    "def search():\n",
    "    category = request.args.get(\"category\")\n",
    "    keyword = request.args.get(\"keyword\")\n",
    "\n",
    "    if not category or not keyword:\n",
    "        return jsonify({\"error\": \"Missing 'category' or 'keyword' parameter\"}), 400\n",
    "\n",
    "    return jsonify({\"recommendations\": search_movies_by(category, keyword)}), 200"
   ]
  },
  {
   "cell_type": "code",
   "execution_count": null,
   "metadata": {},
   "outputs": [],
   "source": [
    "if __name__ == \"__main__\":\n",
    "    app.run(debug=True) # By default, Flask runs on port 5000"
   ]
  }
 ],
 "metadata": {
  "kernelspec": {
   "display_name": "Python 3",
   "language": "python",
   "name": "python3"
  },
  "language_info": {
   "codemirror_mode": {
    "name": "ipython",
    "version": 3
   },
   "file_extension": ".py",
   "mimetype": "text/x-python",
   "name": "python",
   "nbconvert_exporter": "python",
   "pygments_lexer": "ipython3",
   "version": "3.12.4"
  }
 },
 "nbformat": 4,
 "nbformat_minor": 2
}
